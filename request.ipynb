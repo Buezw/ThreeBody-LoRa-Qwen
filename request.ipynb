{
 "cells": [
  {
   "cell_type": "markdown",
   "metadata": {},
   "source": [
    "This project includes code from the Self-LLM repository by DataWhale\n",
    "(https://github.com/datawhalechina/self-llm/tree/master), licensed under the Apache License 2.0. \n",
    "Modifications made by Buezwqwg on 2025-01-25."
   ]
  },
  {
   "cell_type": "markdown",
   "metadata": {},
   "source": []
  },
  {
   "cell_type": "code",
   "execution_count": null,
   "metadata": {},
   "outputs": [],
   "source": [
    "import requests\n",
    "import json\n",
    "\n",
    "def get_completion(prompt):\n",
    "    headers = {'Content-Type': 'application/json'}\n",
    "    system_prompt = \"Now you will be acting as Luoji, a scientist on Earth.\"\n",
    "    full_prompt = f\"{system_prompt} {prompt}\"\n",
    "    data = {\"prompt\": full_prompt, \"history\": []}\n",
    "    response = requests.post(url='http://127.0.0.1:6006', headers=headers, data=json.dumps(data))\n",
    "    return response.json()['response']\n",
    "\n",
    "if __name__ == '__main__':\n",
    "    print(get_completion('Introduce yourself'))"
   ]
  },
  {
   "cell_type": "markdown",
   "metadata": {},
   "source": []
  }
 ],
 "metadata": {
  "kernelspec": {
   "display_name": "tb-venv",
   "language": "python",
   "name": "python3"
  },
  "language_info": {
   "codemirror_mode": {
    "name": "ipython",
    "version": 3
   },
   "file_extension": ".py",
   "mimetype": "text/x-python",
   "name": "python",
   "nbconvert_exporter": "python",
   "pygments_lexer": "ipython3",
   "version": "3.10.10"
  }
 },
 "nbformat": 4,
 "nbformat_minor": 2
}
